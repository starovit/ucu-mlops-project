{
 "cells": [
  {
   "cell_type": "code",
   "execution_count": 15,
   "metadata": {},
   "outputs": [],
   "source": [
    "# Import required libraries\n",
    "import pymongo\n",
    "import requests\n",
    "import json"
   ]
  },
  {
   "cell_type": "code",
   "execution_count": 18,
   "metadata": {},
   "outputs": [],
   "source": [
    "# Connect to MongoDB\n",
    "client = pymongo.MongoClient(\"mongodb://localhost:27018/\")\n",
    "db = client[\"agriculture\"]\n",
    "collection = db[\"prices\"]"
   ]
  },
  {
   "cell_type": "code",
   "execution_count": 19,
   "metadata": {},
   "outputs": [
    {
     "data": {
      "text/plain": [
       "{'version': '4.4.29',\n",
       " 'gitVersion': 'f4dda329a99811c707eb06d05ad023599f9be263',\n",
       " 'modules': [],\n",
       " 'allocator': 'tcmalloc',\n",
       " 'javascriptEngine': 'mozjs',\n",
       " 'sysInfo': 'deprecated',\n",
       " 'versionArray': [4, 4, 29, 0],\n",
       " 'openssl': {'running': 'OpenSSL 1.1.1f  31 Mar 2020',\n",
       "  'compiled': 'OpenSSL 1.1.1f  31 Mar 2020'},\n",
       " 'buildEnvironment': {'distmod': 'ubuntu2004',\n",
       "  'distarch': 'aarch64',\n",
       "  'cc': '/opt/mongodbtoolchain/v3/bin/gcc: gcc (GCC) 8.5.0',\n",
       "  'ccflags': '-march=armv8-a+crc -mtune=generic -ffp-contract=off -fno-omit-frame-pointer -fno-strict-aliasing -fasynchronous-unwind-tables -ggdb -pthread -Wall -Wsign-compare -Wno-unknown-pragmas -Winvalid-pch -Werror -O2 -march=armv8.2-a -mtune=generic -Wno-unused-local-typedefs -Wno-unused-function -Wno-deprecated-declarations -Wno-unused-const-variable -Wno-unused-but-set-variable -Wno-missing-braces -fstack-protector-strong -moutline-atomics',\n",
       "  'cxx': '/opt/mongodbtoolchain/v3/bin/g++: g++ (GCC) 8.5.0',\n",
       "  'cxxflags': '-Woverloaded-virtual -Wno-maybe-uninitialized -fsized-deallocation -std=c++17',\n",
       "  'linkflags': '-pthread -Wl,-z,now -rdynamic -Wl,--fatal-warnings -fstack-protector-strong -fuse-ld=gold -Wl,--no-threads -Wl,--build-id -Wl,--hash-style=gnu -Wl,-z,noexecstack -Wl,--warn-execstack -Wl,-z,relro -Wl,-z,origin -Wl,--enable-new-dtags',\n",
       "  'target_arch': 'aarch64',\n",
       "  'target_os': 'linux',\n",
       "  'cppdefines': 'SAFEINT_USE_INTRINSICS 0 PCRE_STATIC NDEBUG _XOPEN_SOURCE 700 _GNU_SOURCE _FORTIFY_SOURCE 2 BOOST_THREAD_VERSION 5 BOOST_THREAD_USES_DATETIME BOOST_SYSTEM_NO_DEPRECATED BOOST_MATH_NO_LONG_DOUBLE_MATH_FUNCTIONS BOOST_ENABLE_ASSERT_DEBUG_HANDLER BOOST_LOG_NO_SHORTHAND_NAMES BOOST_LOG_USE_NATIVE_SYSLOG BOOST_LOG_WITHOUT_THREAD_ATTR ABSL_FORCE_ALIGNED_ACCESS'},\n",
       " 'bits': 64,\n",
       " 'debug': False,\n",
       " 'maxBsonObjectSize': 16777216,\n",
       " 'storageEngines': ['biggie', 'devnull', 'ephemeralForTest', 'wiredTiger'],\n",
       " 'ok': 1.0}"
      ]
     },
     "execution_count": 19,
     "metadata": {},
     "output_type": "execute_result"
    }
   ],
   "source": [
    "client.server_info()"
   ]
  },
  {
   "cell_type": "code",
   "execution_count": 20,
   "metadata": {},
   "outputs": [
    {
     "name": "stdout",
     "output_type": "stream",
     "text": [
      "Sample records from MongoDB:\n",
      "{'_id': ObjectId('665335fe990fe3fff1b19b65'), 'SN': 0, 'Commodity': 'Tomato Big(Nepali)', 'Date': '2013-06-16', 'Unit': 'Kg', 'Minimum': 35.0, 'Maximum': 40.0, 'Average': 37.5}\n",
      "{'_id': ObjectId('665335fe990fe3fff1b19b66'), 'SN': 1, 'Commodity': 'Tomato Small(Local)', 'Date': '2013-06-16', 'Unit': 'Kg', 'Minimum': 26.0, 'Maximum': 32.0, 'Average': 29.0}\n",
      "{'_id': ObjectId('665335fe990fe3fff1b19b67'), 'SN': 2, 'Commodity': 'Potato Red', 'Date': '2013-06-16', 'Unit': 'Kg', 'Minimum': 20.0, 'Maximum': 21.0, 'Average': 20.5}\n",
      "{'_id': ObjectId('665335fe990fe3fff1b19b68'), 'SN': 3, 'Commodity': 'Potato White', 'Date': '2013-06-16', 'Unit': 'Kg', 'Minimum': 15.0, 'Maximum': 16.0, 'Average': 15.5}\n",
      "{'_id': ObjectId('665335fe990fe3fff1b19b69'), 'SN': 4, 'Commodity': 'Onion Dry (Indian)', 'Date': '2013-06-16', 'Unit': 'Kg', 'Minimum': 28.0, 'Maximum': 30.0, 'Average': 29.0}\n"
     ]
    }
   ],
   "source": [
    "# Check if data is in MongoDB\n",
    "# Print the first 5 records to verify\n",
    "\n",
    "# Connect to MongoDB\n",
    "client = pymongo.MongoClient(\"mongodb://localhost:27018/\")\n",
    "db = client[\"agriculture\"]\n",
    "collection = db[\"prices\"]\n",
    "\n",
    "print(\"Sample records from MongoDB:\")\n",
    "for record in collection.find().limit(5):\n",
    "    print(record)"
   ]
  },
  {
   "cell_type": "code",
   "execution_count": 21,
   "metadata": {},
   "outputs": [
    {
     "name": "stdout",
     "output_type": "stream",
     "text": [
      "Response from Flask API:\n",
      "{'prediction': 28.57066653108653}\n"
     ]
    }
   ],
   "source": [
    "url = \"http://localhost:5001/predict\"\n",
    "\n",
    "sample_data = {\n",
    "    \"history\": [\n",
    "        29.0, 28.0, 27.0, 26.0, 25.0, 24.0, 23.0, 22.0, 21.0, 20.0, \n",
    "        19.0, 18.0, 17.0, 16.0, 15.0, 14.0, 13.0, 12.0, 11.0, 10.0, \n",
    "        9.0, 8.0, 7.0, 6.0, 5.0, 4.0, 3.0, 2.0, 1.0, 0.0\n",
    "    ]\n",
    "}\n",
    "\n",
    "response = requests.post(url, headers={\"Content-Type\": \"application/json\"}, data=json.dumps(sample_data))\n",
    "print(\"Response from Flask API:\")\n",
    "print(response.json())"
   ]
  },
  {
   "cell_type": "code",
   "execution_count": null,
   "metadata": {},
   "outputs": [],
   "source": []
  }
 ],
 "metadata": {
  "kernelspec": {
   "display_name": "mlops-env",
   "language": "python",
   "name": "python3"
  },
  "language_info": {
   "codemirror_mode": {
    "name": "ipython",
    "version": 3
   },
   "file_extension": ".py",
   "mimetype": "text/x-python",
   "name": "python",
   "nbconvert_exporter": "python",
   "pygments_lexer": "ipython3",
   "version": "3.12.2"
  }
 },
 "nbformat": 4,
 "nbformat_minor": 2
}
